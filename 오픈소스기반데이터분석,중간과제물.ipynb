{
  "nbformat": 4,
  "nbformat_minor": 0,
  "metadata": {
    "colab": {
      "provenance": [],
      "gpuType": "T4",
      "authorship_tag": "ABX9TyMJASvkUKPQtMFcl7YZ9LHf",
      "include_colab_link": true
    },
    "kernelspec": {
      "name": "python3",
      "display_name": "Python 3"
    },
    "language_info": {
      "name": "python"
    },
    "accelerator": "GPU"
  },
  "cells": [
    {
      "cell_type": "markdown",
      "metadata": {
        "id": "view-in-github",
        "colab_type": "text"
      },
      "source": [
        "<a href=\"https://colab.research.google.com/github/jionyj4372/Data-Analysis-with-Open-Source/blob/main/%EC%98%A4%ED%94%88%EC%86%8C%EC%8A%A4%EA%B8%B0%EB%B0%98%EB%8D%B0%EC%9D%B4%ED%84%B0%EB%B6%84%EC%84%9D%2C%EC%A4%91%EA%B0%84%EA%B3%BC%EC%A0%9C%EB%AC%BC.ipynb\" target=\"_parent\"><img src=\"https://colab.research.google.com/assets/colab-badge.svg\" alt=\"Open In Colab\"/></a>"
      ]
    },
    {
      "cell_type": "code",
      "execution_count": null,
      "metadata": {
        "colab": {
          "base_uri": "https://localhost:8080/"
        },
        "id": "tVwjPtMWuwni",
        "outputId": "fddc2280-f5f9-49d4-c925-67d4e66cd6db"
      },
      "outputs": [
        {
          "output_type": "stream",
          "name": "stdout",
          "text": [
            "학번 : 202434-363662\n",
            "성명 : 전영주\n"
          ]
        }
      ],
      "source": [
        "print(\"학번 : 202434-363662\")\n",
        "print(\"성명 : 전영주\")"
      ]
    },
    {
      "cell_type": "code",
      "source": [
        "from google.colab import drive\n",
        "drive.mount('/content/gdrive')"
      ],
      "metadata": {
        "colab": {
          "base_uri": "https://localhost:8080/"
        },
        "id": "7Zb276jdwR7Y",
        "outputId": "a459167b-9599-48c3-d67c-d772193e3b6f"
      },
      "execution_count": null,
      "outputs": [
        {
          "output_type": "stream",
          "name": "stdout",
          "text": [
            "Drive already mounted at /content/gdrive; to attempt to forcibly remount, call drive.mount(\"/content/gdrive\", force_remount=True).\n"
          ]
        }
      ]
    },
    {
      "cell_type": "code",
      "source": [
        "with open('/content/gdrive/My Drive/MyColab/task1-1.txt','r') as f:\n",
        "  #readtxt = f.readline()\n",
        "  readtxt = f.read()\n",
        "  print(readtxt)"
      ],
      "metadata": {
        "colab": {
          "base_uri": "https://localhost:8080/"
        },
        "id": "0C0f-pYHxjm6",
        "outputId": "ac333a99-6f52-47e9-94c7-93e26909d4e7"
      },
      "execution_count": null,
      "outputs": [
        {
          "output_type": "stream",
          "name": "stdout",
          "text": [
            "PyTorch, Keras, Tensorflow 는 모두 딥러닝 프레임워크의 종류 중 하나로 오픈 소스 라이브러리로 제공되고 있다.\n",
            "\n",
            "PyTorch : 그래프를 만들면서 동시에 값을 할당하는 방식으로 동적 그래프를 생성해주는 기능을 가지고 있으며, 학습 속도 및 연산 속도가 빠르다는 특징이 존재한다.\n",
            "Keras : 보다 단순화된 인터페이스를 제공하며 구성 요소로써 모듈 형태를 사용하기 때문에 각 모듈이 독립성을 가질 수 있어 새로운 모델을 만들 때 각 모듈들을 조합해 쉽게 새로운 모델을 만들 수 있다.\n",
            "Tensorflow : 데이터 플로우 그래프 구조를 사용한다는 특징이 존재하며, 수학 계산식과 데이터 흐름을 방향성 그래프로 표현하는 방식을 제공한다.\n",
            "\n"
          ]
        }
      ]
    }
  ]
}